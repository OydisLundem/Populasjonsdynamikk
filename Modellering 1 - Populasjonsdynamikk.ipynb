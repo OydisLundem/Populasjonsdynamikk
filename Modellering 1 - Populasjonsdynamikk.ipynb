{
 "cells": [
  {
   "cell_type": "markdown",
   "metadata": {},
   "source": [
    "# Modellering av populasjoner\n",
    "\n",
    "Vi skal nå se på modellering av populasjoner med utgangspunkt i tre modeller som er basert på differensiallikninger. Disse skal vi så løse med Eulers metode. Følgende mål er viktige for å forstå modelleringsprosessen:\n",
    "\n",
    "- Drøfte modellens styrker og begrensninger.\n",
    "- Forstå og drøfte koeffisientenes betydning i en modell.\n",
    "- Forstå, utlede og bruke Eulers metode.\n",
    "- Tolke resultatene en får med Eulers metode.\n",
    "\n",
    "Dette skal vi øve oss på, slik at det avsluttende modelleringsprosjektet deres blir så godt som mulig!\n",
    "\n",
    "Vi skal utforske tre modeller for populasjonsdynamikk her. De tar utgangspunkt i følgende kriterier:\n",
    "\n",
    "1. Uendelig ressurser.\n",
    "2. Endelige ressurser: Bæreevne.\n",
    "3. Rovdyr-bytte-forhold.\n",
    "\n",
    "## Modell 1: Ubegrensa vekst\n",
    "\n",
    "<img src=\"https://i.ytimg.com/vi/k7PXL-khy4c/maxresdefault.jpg\",width=500,height=500>\n",
    "\n",
    "Vi slipper ut 100 kaniner på øde øy. Noen elever drar til øya og registrerer hvordan kaninene formerer seg. Ved å ta omfattende målinger hver måned, finner de ut at populasjoner av kaniner øker med 5 % i måneden.\n",
    "\n",
    "1. Forklar hvorfor vi kan bruke modellen $K'(t) = k\\cdot K(t)$, der $k = 0.10$.\n",
    "2. Hvilken initalbetingelse har vi?\n",
    "3. Løs difflikninga ovenfor med Eulers metode. Tegn grafen til _K_.\n",
    "4. Beskriv utviklinga med ord.\n",
    "5. Hva skjer hvis vi begynner med 2, 5 eller 200 kaniner? Hvordan forandrer kurven seg.\n",
    "6. Hva betyr egentlig $k$? Hva slags verdi av $k$ vil være realistisk (søk på internett).\n",
    "7. Hva skjer hvis populasjonen øker med 10 % isteden? Hva med 50 %?\n",
    "8. Forandrer noe seg hvis vi angir tida i år istedenfor måneder? Hva med $k$?\n",
    "9. Kunne du funnet et funksjonsuttrykk for _K_? Bruk grafen som hint."
   ]
  },
  {
   "cell_type": "markdown",
   "metadata": {},
   "source": [
    "1. K'(t) er økningen av kaniner etter t måneder. k er hvor mange barn hver kaning får hver måned og K(t) er antall kaniner.\n",
    "2. K(0) = 100, fordi det er antall kaniner man setter ut på den øde øyen.\n"
   ]
  },
  {
   "cell_type": "code",
   "execution_count": 11,
   "metadata": {},
   "outputs": [
    {
     "data": {
      "image/png": "[encoded data removed]",
      "text/plain": [
       "<Figure size 432x288 with 1 Axes>"
      ]
     },
     "metadata": {},
     "output_type": "display_data"
    }
   ],
   "source": [
    "##Eulers metode\n",
    "from pylab import*\n",
    "\n",
    "k0 = 2 #antall kaniner vi starter med\n",
    "vr = 0.05   #vekstraten\n",
    "t = 0  #start tall måneder\n",
    "i = 24  #antall måneder\n",
    "\n",
    "kaniner = []\n",
    "måneder = []\n",
    "\n",
    "for i in range(i):\n",
    "    K = k0 + k0 * vr\n",
    "    k0 = K\n",
    "    t += 1\n",
    "    måneder.append(t)\n",
    "    kaniner.append(K)\n",
    "    \n",
    "title('kaninpopulasjoen')\n",
    "xlabel('antall måneder')\n",
    "ylabel('antall kaniner')\n",
    "plot(måneder, kaniner)\n",
    "show()"
   ]
  },
  {
   "cell_type": "markdown",
   "metadata": {},
   "source": [
    "4. Kaningpopulasjonen har en eksponentiell vekst. Populasjonen øker raskere og raskere etter hvert.\n",
    "5. Hvis man begynner med 2 kaniner ender man bare opp med 6 kaniner etter 2 år. Hvis man starter med 5 kaniner... Hvis man starter med 200 kaniner ender man opp med 600 kaniner etter 2 år.\n",
    "6. k er vekstraten. Gjenomsnittet av hvor mange barn hver kanin får i løpet av en måned.\n",
    "7. Hvis populasjonen øker med 10% isteden for vil populasjonen øke mer drastisk enn det den gjør med 5%. Hvis den øker med 50% hver måned vil populasjonen øke med en halv gang hver måned.\n",
    "8. Ingen ting vil forandre seg hvis vi angir tida i år isteden for månder.\n",
    "9. _K_ = k0 + k0 * k"
   ]
  },
  {
   "cell_type": "markdown",
   "metadata": {},
   "source": [
    "## Modell 2: Vekst med bæreevne\n",
    "\n",
    "<img src=\"https://no.vwr.com/no.vwr.com/no_NO/images/segment_microbiology.jpg\",width=500,height=500>\n",
    "\n",
    "Vi har 5000 bakterier i en petriskål med agar. Veksten til bakteriene er poporsjonal med antall bakterier til enhver tid. En biolog finner ut at populasjonen stabiliserer seg etter hvert rundt 50000 bakterier.\n",
    "\n",
    "La $B(t)$ være antall bakterier i beholderen etter $t$ timer.\n",
    "\n",
    "1. Hva kan vi si om $B(0)$?\n",
    "2. Vi kaller bæreevnen $b$. Hva menes med bæreevne? Hvilke biologiske faktorer bestemmer denne?\n",
    "3. Forklar at en gyldig modell kan gis ved: $B′(t) = k \\cdot B(t)\\cdot (1−B(t)/b)$\n",
    "\n",
    "I begynnelsen vokser bakteriebefolkningen med 900 bakterier per time.\n",
    "\n",
    "4. Forklar hvorfor k=0.000004 med regning.\n",
    "5. Løs differensiallikninga med Eulers metode.\n",
    "6. Uforsk modellen ved å varierer $k$ og $b$ systematisk. Hvilke sammenhenger finner du?"
   ]
  },
  {
   "cell_type": "markdown",
   "metadata": {},
   "source": [
    "1. B(0) er antall bakterier etter 0 timer. Det er antall bakterier vi starter med, som er 5000.\n",
    "2. Bæreevne er maks antall det kan være av en rase i et økosystem. Faktorer som bestemmer bæreevnen kan være nok mat, rovdyr i økosystemet, bakterier, sykdom\n",
    "3. Siden populasjonen er proposjonal med vekstfarten, vil det si at de ganges med hverandre. Og siden populasjonen gjevner seg ut på rundt 50000 bakterier må man igjen gange med (1-B(t)/b) fordi da vil den bli null når det er B(t) = b, og da vil vekstfarten være 0.\n",
    "4. B'(t) vil da være 900 fordi det er hvor mye populasjonen øker i timen og B(t) = 5000 fordi det er så mange vi starter med. 900 = k*5000*(1-5000/50000) --> k = 0.2\n",
    "5. \n",
    "6. "
   ]
  },
  {
   "cell_type": "markdown",
   "metadata": {},
   "source": [
    "## Modell 3: Rovdyr-byttedyr\n",
    "\n",
    "<img src=\"https://i.ytimg.com/vi/zNO0kxTClYo/maxresdefault.jpg\",width=500,height=500>\n",
    "\n",
    "Vi trenger to differensiallikninger for å modellere både rovdyr og byttedyr. Størrelsen til de ulike populasjonene, vil påvirke hverandre. En modell for dette er gitt med følgende type differensiallikninger (kalt Lotka-Volterra differensiallikningene):\n",
    "\n",
    "La B(t) være antall byttedyr etter t tidsenheter og la R(t) være antall rovdyr etter t tidsenheter.\n",
    "\n",
    "$B'(t) = a\\cdot B(t) - b\\cdot B(t)R(t)$\n",
    "\n",
    "$R'(t) = c\\cdot B(t)R(t) - d \\cdot R(t)$\n",
    "\n",
    "1\\. Hva betyr de ulike leddene i likningene? Hva betyr de ulike koeffisientene?\n",
    "\n",
    "Vi kan starte med 100 seler og 100 isbjørner på en isolert øy. Vi velger A=0.25, B=0.002, C=0.1 og D=0.001.\n",
    "\n",
    "2\\. Bruk Eulers metode og løs likningene. Plott _B(t)_ og _R(t)_ i samme koordinatsystem. Beskriv sammenhengen med ord.\n",
    "\n",
    "3\\. Endre systematisk på antallet rovdyr og byttedyr. Beskriv hva som skjer.\n",
    "\n",
    "4\\. Endre systematisk på koeffisientene. Beskriv hva som skjer."
   ]
  },
  {
   "cell_type": "markdown",
   "metadata": {},
   "source": [
    "1. B'(t) er hvor mange byttedyr det øker med per tidsenhet. B(t) er antall byttedyr ved tiden t. a er vekstraten til byttedyrpopulasjonen. b*B(t)*R(t) hvor b sier noe om hvor ofte rovdyr og byttedyr møtes, jo flere byttedyr eller rovdyr det er, jo oftere vil de møtes og bli spist. c sier noe om hvor ofte byttedyr og rovdyr møtes. d sier noe om at hvis det blir for mange rovdyr iforhold til byttedyr vil populasjonen synke fordi det ikke er nok mat, altså d er nedgangsraten. "
   ]
  },
  {
   "cell_type": "code",
   "execution_count": null,
   "metadata": {},
   "outputs": [],
   "source": [
    "from pylab import*\n",
    "\n",
    "S0 = 100 #antall seler vi starter med\n",
    "I0 = 100 #antall isbjørner bi starter med\n",
    "a = 0.25 #Reproduksjonsraten seler\n",
    "b = 0.002 #seler møter isbjørner\n",
    "c = 0.1 #isbjørn møter seler\n",
    "d = 0.001 #nedgangsraten\n",
    "\n",
    "N = 10000\n",
    "tid = 400 #tidsenheter\n",
    "dt = tid/(N-1)\n",
    "\n",
    "S[0] = H0\n",
    "I[0] = I0\n",
    "\n",
    "#Eulersmetode\n",
    "for i in range(N-1):\n",
    "    S_derivert = a*S[i]-b*S[i]*I[i]\n",
    "    I_derivert = c*S[i]*I[i] - d*I[i]\n",
    "    H[]\n",
    "    "
   ]
  }
 ],
 "metadata": {
  "kernelspec": {
   "display_name": "Python 3",
   "language": "python",
   "name": "python3"
  },
  "language_info": {
   "codemirror_mode": {
    "name": "ipython",
    "version": 3
   },
   "file_extension": ".py",
   "mimetype": "text/x-python",
   "name": "python",
   "nbconvert_exporter": "python",
   "pygments_lexer": "ipython3",
   "version": "3.6.5"
  }
 },
 "nbformat": 4,
 "nbformat_minor": 2
}
